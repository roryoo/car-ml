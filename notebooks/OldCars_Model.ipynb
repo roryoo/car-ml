{
  "nbformat": 4,
  "nbformat_minor": 0,
  "metadata": {
    "colab": {
      "provenance": []
    },
    "kernelspec": {
      "name": "python3",
      "display_name": "Python 3"
    },
    "language_info": {
      "name": "python"
    }
  },
  "cells": [
    {
      "cell_type": "code",
      "execution_count": 1,
      "metadata": {
        "colab": {
          "base_uri": "https://localhost:8080/",
          "height": 81
        },
        "id": "OlD6477ds9Bz",
        "outputId": "662fa340-9c88-45a0-d371-3f9d755af36b"
      },
      "outputs": [
        {
          "output_type": "execute_result",
          "data": {
            "text/plain": [
              "  CarName  fueltype    price accident   milage  model_year ext_col int_col  \\\n",
              "0    Ford  gasoline  10300.0      yes  51000.0      2013.0   Black   Black   \n",
              "\n",
              "      HP  motor_size  cylinders  \n",
              "0  300.0         3.7        6.0  "
            ],
            "text/html": [
              "\n",
              "  <div id=\"df-a6af82df-fefd-4b20-b01e-2768161e180d\" class=\"colab-df-container\">\n",
              "    <div>\n",
              "<style scoped>\n",
              "    .dataframe tbody tr th:only-of-type {\n",
              "        vertical-align: middle;\n",
              "    }\n",
              "\n",
              "    .dataframe tbody tr th {\n",
              "        vertical-align: top;\n",
              "    }\n",
              "\n",
              "    .dataframe thead th {\n",
              "        text-align: right;\n",
              "    }\n",
              "</style>\n",
              "<table border=\"1\" class=\"dataframe\">\n",
              "  <thead>\n",
              "    <tr style=\"text-align: right;\">\n",
              "      <th></th>\n",
              "      <th>CarName</th>\n",
              "      <th>fueltype</th>\n",
              "      <th>price</th>\n",
              "      <th>accident</th>\n",
              "      <th>milage</th>\n",
              "      <th>model_year</th>\n",
              "      <th>ext_col</th>\n",
              "      <th>int_col</th>\n",
              "      <th>HP</th>\n",
              "      <th>motor_size</th>\n",
              "      <th>cylinders</th>\n",
              "    </tr>\n",
              "  </thead>\n",
              "  <tbody>\n",
              "    <tr>\n",
              "      <th>0</th>\n",
              "      <td>Ford</td>\n",
              "      <td>gasoline</td>\n",
              "      <td>10300.0</td>\n",
              "      <td>yes</td>\n",
              "      <td>51000.0</td>\n",
              "      <td>2013.0</td>\n",
              "      <td>Black</td>\n",
              "      <td>Black</td>\n",
              "      <td>300.0</td>\n",
              "      <td>3.7</td>\n",
              "      <td>6.0</td>\n",
              "    </tr>\n",
              "  </tbody>\n",
              "</table>\n",
              "</div>\n",
              "    <div class=\"colab-df-buttons\">\n",
              "\n",
              "  <div class=\"colab-df-container\">\n",
              "    <button class=\"colab-df-convert\" onclick=\"convertToInteractive('df-a6af82df-fefd-4b20-b01e-2768161e180d')\"\n",
              "            title=\"Convert this dataframe to an interactive table.\"\n",
              "            style=\"display:none;\">\n",
              "\n",
              "  <svg xmlns=\"http://www.w3.org/2000/svg\" height=\"24px\" viewBox=\"0 -960 960 960\">\n",
              "    <path d=\"M120-120v-720h720v720H120Zm60-500h600v-160H180v160Zm220 220h160v-160H400v160Zm0 220h160v-160H400v160ZM180-400h160v-160H180v160Zm440 0h160v-160H620v160ZM180-180h160v-160H180v160Zm440 0h160v-160H620v160Z\"/>\n",
              "  </svg>\n",
              "    </button>\n",
              "\n",
              "  <style>\n",
              "    .colab-df-container {\n",
              "      display:flex;\n",
              "      gap: 12px;\n",
              "    }\n",
              "\n",
              "    .colab-df-convert {\n",
              "      background-color: #E8F0FE;\n",
              "      border: none;\n",
              "      border-radius: 50%;\n",
              "      cursor: pointer;\n",
              "      display: none;\n",
              "      fill: #1967D2;\n",
              "      height: 32px;\n",
              "      padding: 0 0 0 0;\n",
              "      width: 32px;\n",
              "    }\n",
              "\n",
              "    .colab-df-convert:hover {\n",
              "      background-color: #E2EBFA;\n",
              "      box-shadow: 0px 1px 2px rgba(60, 64, 67, 0.3), 0px 1px 3px 1px rgba(60, 64, 67, 0.15);\n",
              "      fill: #174EA6;\n",
              "    }\n",
              "\n",
              "    .colab-df-buttons div {\n",
              "      margin-bottom: 4px;\n",
              "    }\n",
              "\n",
              "    [theme=dark] .colab-df-convert {\n",
              "      background-color: #3B4455;\n",
              "      fill: #D2E3FC;\n",
              "    }\n",
              "\n",
              "    [theme=dark] .colab-df-convert:hover {\n",
              "      background-color: #434B5C;\n",
              "      box-shadow: 0px 1px 3px 1px rgba(0, 0, 0, 0.15);\n",
              "      filter: drop-shadow(0px 1px 2px rgba(0, 0, 0, 0.3));\n",
              "      fill: #FFFFFF;\n",
              "    }\n",
              "  </style>\n",
              "\n",
              "    <script>\n",
              "      const buttonEl =\n",
              "        document.querySelector('#df-a6af82df-fefd-4b20-b01e-2768161e180d button.colab-df-convert');\n",
              "      buttonEl.style.display =\n",
              "        google.colab.kernel.accessAllowed ? 'block' : 'none';\n",
              "\n",
              "      async function convertToInteractive(key) {\n",
              "        const element = document.querySelector('#df-a6af82df-fefd-4b20-b01e-2768161e180d');\n",
              "        const dataTable =\n",
              "          await google.colab.kernel.invokeFunction('convertToInteractive',\n",
              "                                                    [key], {});\n",
              "        if (!dataTable) return;\n",
              "\n",
              "        const docLinkHtml = 'Like what you see? Visit the ' +\n",
              "          '<a target=\"_blank\" href=https://colab.research.google.com/notebooks/data_table.ipynb>data table notebook</a>'\n",
              "          + ' to learn more about interactive tables.';\n",
              "        element.innerHTML = '';\n",
              "        dataTable['output_type'] = 'display_data';\n",
              "        await google.colab.output.renderOutput(dataTable, element);\n",
              "        const docLink = document.createElement('div');\n",
              "        docLink.innerHTML = docLinkHtml;\n",
              "        element.appendChild(docLink);\n",
              "      }\n",
              "    </script>\n",
              "  </div>\n",
              "\n",
              "\n",
              "    </div>\n",
              "  </div>\n"
            ],
            "application/vnd.google.colaboratory.intrinsic+json": {
              "type": "dataframe",
              "variable_name": "df",
              "summary": "{\n  \"name\": \"df\",\n  \"rows\": 3036,\n  \"fields\": [\n    {\n      \"column\": \"CarName\",\n      \"properties\": {\n        \"dtype\": \"category\",\n        \"num_unique_values\": 51,\n        \"samples\": [\n          \"Pontiac\",\n          \"Rolls-Royce\",\n          \"Mercury\"\n        ],\n        \"semantic_type\": \"\",\n        \"description\": \"\"\n      }\n    },\n    {\n      \"column\": \"fueltype\",\n      \"properties\": {\n        \"dtype\": \"category\",\n        \"num_unique_values\": 3,\n        \"samples\": [\n          \"gasoline\",\n          \"hybrid\",\n          \"diesel\"\n        ],\n        \"semantic_type\": \"\",\n        \"description\": \"\"\n      }\n    },\n    {\n      \"column\": \"price\",\n      \"properties\": {\n        \"dtype\": \"number\",\n        \"std\": 38232.60067790775,\n        \"min\": 2000.0,\n        \"max\": 649999.0,\n        \"num_unique_values\": 1013,\n        \"samples\": [\n          156900.0,\n          7995.0,\n          10800.0\n        ],\n        \"semantic_type\": \"\",\n        \"description\": \"\"\n      }\n    },\n    {\n      \"column\": \"accident\",\n      \"properties\": {\n        \"dtype\": \"category\",\n        \"num_unique_values\": 2,\n        \"samples\": [\n          \"no\",\n          \"yes\"\n        ],\n        \"semantic_type\": \"\",\n        \"description\": \"\"\n      }\n    },\n    {\n      \"column\": \"milage\",\n      \"properties\": {\n        \"dtype\": \"number\",\n        \"std\": 53374.18328544573,\n        \"min\": 100.0,\n        \"max\": 405000.0,\n        \"num_unique_values\": 1966,\n        \"samples\": [\n          115359.0,\n          67303.0\n        ],\n        \"semantic_type\": \"\",\n        \"description\": \"\"\n      }\n    },\n    {\n      \"column\": \"model_year\",\n      \"properties\": {\n        \"dtype\": \"number\",\n        \"std\": 5.868506454059419,\n        \"min\": 1996.0,\n        \"max\": 2024.0,\n        \"num_unique_values\": 29,\n        \"samples\": [\n          2024.0,\n          2014.0\n        ],\n        \"semantic_type\": \"\",\n        \"description\": \"\"\n      }\n    },\n    {\n      \"column\": \"ext_col\",\n      \"properties\": {\n        \"dtype\": \"category\",\n        \"num_unique_values\": 14,\n        \"samples\": [\n          \"Gold\",\n          \"Beige\"\n        ],\n        \"semantic_type\": \"\",\n        \"description\": \"\"\n      }\n    },\n    {\n      \"column\": \"int_col\",\n      \"properties\": {\n        \"dtype\": \"category\",\n        \"num_unique_values\": 14,\n        \"samples\": [\n          \"\\u2013\",\n          \"Silver\"\n        ],\n        \"semantic_type\": \"\",\n        \"description\": \"\"\n      }\n    },\n    {\n      \"column\": \"HP\",\n      \"properties\": {\n        \"dtype\": \"number\",\n        \"std\": 113.37291025671801,\n        \"min\": 70.0,\n        \"max\": 808.0,\n        \"num_unique_values\": 332,\n        \"samples\": [\n          228.0,\n          363.0\n        ],\n        \"semantic_type\": \"\",\n        \"description\": \"\"\n      }\n    },\n    {\n      \"column\": \"motor_size\",\n      \"properties\": {\n        \"dtype\": \"number\",\n        \"std\": 1.41449411809371,\n        \"min\": 1.0,\n        \"max\": 8.4,\n        \"num_unique_values\": 59,\n        \"samples\": [\n          3.7,\n          3.0\n        ],\n        \"semantic_type\": \"\",\n        \"description\": \"\"\n      }\n    },\n    {\n      \"column\": \"cylinders\",\n      \"properties\": {\n        \"dtype\": \"number\",\n        \"std\": 1.6729288839071084,\n        \"min\": 3.0,\n        \"max\": 12.0,\n        \"num_unique_values\": 7,\n        \"samples\": [\n          6.0,\n          4.0\n        ],\n        \"semantic_type\": \"\",\n        \"description\": \"\"\n      }\n    }\n  ]\n}"
            }
          },
          "metadata": {},
          "execution_count": 1
        }
      ],
      "source": [
        "import pandas as pd\n",
        "df = pd.read_csv('old_cleaned.csv')\n",
        "df.head(1)"
      ]
    },
    {
      "cell_type": "code",
      "source": [
        "# check nulls and duplicates, value counts for categorical and distrubution for numarical columns"
      ],
      "metadata": {
        "id": "4f2-jxK2tJ2N"
      },
      "execution_count": null,
      "outputs": []
    },
    {
      "cell_type": "code",
      "source": [
        "df.isnull().sum()"
      ],
      "metadata": {
        "colab": {
          "base_uri": "https://localhost:8080/"
        },
        "id": "t89kjqbqtRSR",
        "outputId": "213f0265-6b61-4ade-896a-7343162d858a"
      },
      "execution_count": 2,
      "outputs": [
        {
          "output_type": "execute_result",
          "data": {
            "text/plain": [
              "CarName       0\n",
              "fueltype      0\n",
              "price         0\n",
              "accident      0\n",
              "milage        0\n",
              "model_year    0\n",
              "ext_col       0\n",
              "int_col       0\n",
              "HP            0\n",
              "motor_size    0\n",
              "cylinders     0\n",
              "dtype: int64"
            ]
          },
          "metadata": {},
          "execution_count": 2
        }
      ]
    },
    {
      "cell_type": "code",
      "source": [
        "df.duplicated().sum()"
      ],
      "metadata": {
        "colab": {
          "base_uri": "https://localhost:8080/"
        },
        "id": "IyWwm661tSIx",
        "outputId": "104859b8-20f7-4dbc-f01b-85cd2b51fdc7"
      },
      "execution_count": 3,
      "outputs": [
        {
          "output_type": "execute_result",
          "data": {
            "text/plain": [
              "0"
            ]
          },
          "metadata": {},
          "execution_count": 3
        }
      ]
    },
    {
      "cell_type": "code",
      "source": [
        "df.columns"
      ],
      "metadata": {
        "colab": {
          "base_uri": "https://localhost:8080/"
        },
        "id": "8kc420LUtakc",
        "outputId": "fa29a0c1-5eed-4e86-bf4f-e6e966c820dc"
      },
      "execution_count": 4,
      "outputs": [
        {
          "output_type": "execute_result",
          "data": {
            "text/plain": [
              "Index(['CarName', 'fueltype', 'price', 'accident', 'milage', 'model_year',\n",
              "       'ext_col', 'int_col', 'HP', 'motor_size', 'cylinders'],\n",
              "      dtype='object')"
            ]
          },
          "metadata": {},
          "execution_count": 4
        }
      ]
    },
    {
      "cell_type": "code",
      "source": [
        "cat_columns = ['CarName', 'fueltype', 'accident',\n",
        "       'ext_col', 'int_col']\n",
        "\n",
        "num_columns = ['price',  'milage', 'model_year','HP', 'motor_size', 'cylinders']"
      ],
      "metadata": {
        "id": "2Y42hzyvtUXU"
      },
      "execution_count": 5,
      "outputs": []
    },
    {
      "cell_type": "code",
      "source": [
        "df.shape"
      ],
      "metadata": {
        "colab": {
          "base_uri": "https://localhost:8080/"
        },
        "id": "TxPGSo7ruCYZ",
        "outputId": "31b57170-f815-412f-9614-c9022d3c0608"
      },
      "execution_count": 9,
      "outputs": [
        {
          "output_type": "execute_result",
          "data": {
            "text/plain": [
              "(3036, 11)"
            ]
          },
          "metadata": {},
          "execution_count": 9
        }
      ]
    },
    {
      "cell_type": "code",
      "source": [
        "for i in cat_columns:\n",
        "    print(len(df[i].value_counts()))\n",
        "    print('\\n')\n",
        "    print(df[i].value_counts())\n",
        "    print('-'*50)"
      ],
      "metadata": {
        "colab": {
          "base_uri": "https://localhost:8080/"
        },
        "id": "w_o0c9bdtt_3",
        "outputId": "63e2c8a2-5b9d-40ef-ec3a-07b6085cdf50"
      },
      "execution_count": 7,
      "outputs": [
        {
          "output_type": "stream",
          "name": "stdout",
          "text": [
            "51\n",
            "\n",
            "\n",
            "CarName\n",
            "BMW              320\n",
            "Ford             299\n",
            "Mercedes-Benz    259\n",
            "Chevrolet        232\n",
            "Porsche          158\n",
            "Toyota           156\n",
            "Audi             155\n",
            "Lexus            134\n",
            "Land             102\n",
            "Jeep              97\n",
            "Nissan            88\n",
            "Cadillac          86\n",
            "Dodge             72\n",
            "GMC               72\n",
            "Hyundai           57\n",
            "Subaru            56\n",
            "INFINITI          55\n",
            "RAM               53\n",
            "Volkswagen        48\n",
            "Honda             47\n",
            "Lincoln           44\n",
            "Acura             41\n",
            "Kia               40\n",
            "Jaguar            39\n",
            "Mazda             35\n",
            "Volvo             32\n",
            "MINI              31\n",
            "Maserati          26\n",
            "Bentley           22\n",
            "Chrysler          22\n",
            "Mitsubishi        19\n",
            "Buick             17\n",
            "Genesis           16\n",
            "Hummer            16\n",
            "Pontiac           15\n",
            "Lamborghini       13\n",
            "Alfa              12\n",
            "Ferrari            8\n",
            "Aston              7\n",
            "Scion              6\n",
            "Rolls-Royce        5\n",
            "Saturn             5\n",
            "FIAT               4\n",
            "Lotus              4\n",
            "McLaren            3\n",
            "Saab               2\n",
            "Mercury            2\n",
            "Plymouth           1\n",
            "smart              1\n",
            "Maybach            1\n",
            "Suzuki             1\n",
            "Name: count, dtype: int64\n",
            "--------------------------------------------------\n",
            "3\n",
            "\n",
            "\n",
            "fueltype\n",
            "gasoline    2757\n",
            "hybrid       178\n",
            "diesel       101\n",
            "Name: count, dtype: int64\n",
            "--------------------------------------------------\n",
            "2\n",
            "\n",
            "\n",
            "accident\n",
            "no     2142\n",
            "yes     894\n",
            "Name: count, dtype: int64\n",
            "--------------------------------------------------\n",
            "14\n",
            "\n",
            "\n",
            "ext_col\n",
            "Black     786\n",
            "White     709\n",
            "Gray      434\n",
            "Silver    334\n",
            "Blue      306\n",
            "Red       213\n",
            "Green      60\n",
            "Brown      43\n",
            "Gold       41\n",
            "Beige      37\n",
            "Orange     33\n",
            "Yellow     28\n",
            "Purple     11\n",
            "Pink        1\n",
            "Name: count, dtype: int64\n",
            "--------------------------------------------------\n",
            "14\n",
            "\n",
            "\n",
            "int_col\n",
            "Black     1661\n",
            "Beige      510\n",
            "Gray       425\n",
            "Brown      156\n",
            "Red        117\n",
            "White       86\n",
            "Blue        27\n",
            "Orange      19\n",
            "Silver      14\n",
            "Gold         9\n",
            "Green        6\n",
            "–            3\n",
            "Yellow       2\n",
            "Ebony        1\n",
            "Name: count, dtype: int64\n",
            "--------------------------------------------------\n"
          ]
        }
      ]
    },
    {
      "cell_type": "code",
      "source": [
        "# the distrubution of the data very good\n",
        "\n"
      ],
      "metadata": {
        "id": "0GXaTCqOtuC2"
      },
      "execution_count": null,
      "outputs": []
    },
    {
      "cell_type": "code",
      "source": [
        "# check numaric dist\n",
        "import matplotlib.pyplot as plt\n",
        "import seaborn as sns\n",
        "for i in num_columns:\n",
        "    sns.histplot(data=df, x=i)\n",
        "    plt.show()\n",
        ""
      ],
      "metadata": {
        "colab": {
          "base_uri": "https://localhost:8080/",
          "height": 1000
        },
        "id": "Qy3uuhlPuUg3",
        "outputId": "7313a36d-fee2-4a01-fbe6-d3027464b141"
      },
      "execution_count": 10,
      "outputs": [
        {
          "output_type": "display_data",
          "data": {
            "text/plain": [
              "<Figure size 640x480 with 1 Axes>"
            ],
            "image/png": "[encoded data removed]"
          },
          "metadata": {}
        },
        {
          "output_type": "display_data",
          "data": {
            "text/plain": [
              "<Figure size 640x480 with 1 Axes>"
            ],
            "image/png": "[encoded data removed]"
          },
          "metadata": {}
        },
        {
          "output_type": "display_data",
          "data": {
            "text/plain": [
              "<Figure size 640x480 with 1 Axes>"
            ],
            "image/png": "[encoded data removed]"
          },
          "metadata": {}
        },
        {
          "output_type": "display_data",
          "data": {
            "text/plain": [
              "<Figure size 640x480 with 1 Axes>"
            ],
            "image/png": "[encoded data removed]"
          },
          "metadata": {}
        },
        {
          "output_type": "display_data",
          "data": {
            "text/plain": [
              "<Figure size 640x480 with 1 Axes>"
            ],
            "image/png": "[encoded data removed]"
          },
          "metadata": {}
        },
        {
          "output_type": "display_data",
          "data": {
            "text/plain": [
              "<Figure size 640x480 with 1 Axes>"
            ],
            "image/png": "[encoded data removed]"
          },
          "metadata": {}
        }
      ]
    },
    {
      "cell_type": "code",
      "source": [
        "# apply standard scaler on them"
      ],
      "metadata": {
        "id": "UdVJeFRburro"
      },
      "execution_count": null,
      "outputs": []
    },
    {
      "cell_type": "markdown",
      "source": [
        "- apply standard scaler on the numaric (except the price cause its the target)\n",
        "\n",
        "\n",
        "- for this features\n",
        "'CarName', 'ext_col', 'int_col' -> apply binary encoding\n",
        "'fueltype','accident', -> onehot encoding with drop\n",
        "\n",
        "- then test those models\n",
        "LR, SVM linear, SVM polynomial, DT, RF, XGBoost, CatBoost, LightGBM\n",
        "- then print RMSE and R2"
      ],
      "metadata": {
        "id": "5iX3ypLQv0pc"
      }
    },
    {
      "cell_type": "code",
      "source": [
        "!pip install xgboost catboost lightgbm category_encoders\n"
      ],
      "metadata": {
        "id": "HfsKSrXuuvIc"
      },
      "execution_count": null,
      "outputs": []
    },
    {
      "cell_type": "code",
      "source": [
        "from sklearn.model_selection import train_test_split, cross_val_score\n",
        "from sklearn.preprocessing import StandardScaler, OneHotEncoder\n",
        "from sklearn.compose import ColumnTransformer\n",
        "from sklearn.pipeline import Pipeline\n",
        "from sklearn.linear_model import LinearRegression\n",
        "from sklearn.svm import SVR\n",
        "from sklearn.tree import DecisionTreeRegressor\n",
        "from sklearn.ensemble import RandomForestRegressor\n",
        "from xgboost import XGBRegressor\n",
        "from catboost import CatBoostRegressor\n",
        "from lightgbm import LGBMRegressor\n",
        "from sklearn.metrics import make_scorer, mean_squared_error, r2_score\n",
        "from category_encoders import BinaryEncoder\n",
        "import numpy as np\n",
        "\n",
        "# Define the evaluate_model function\n",
        "def evaluate_model(model, X_test, y_test):\n",
        "    y_pred = model.predict(X_test)\n",
        "    rmse = mean_squared_error(y_test, y_pred, squared=False)\n",
        "    r2 = r2_score(y_test, y_pred)\n",
        "    return rmse, r2\n",
        "\n",
        "# Specify your columns\n",
        "cat_columns = ['CarName', 'fueltype', 'accident', 'ext_col', 'int_col']\n",
        "num_columns = ['milage', 'model_year', 'HP', 'motor_size', 'cylinders']\n",
        "target = 'price'\n",
        "\n",
        "# Split the data\n",
        "X = df[cat_columns + num_columns]\n",
        "y = df[target]\n",
        "\n",
        "X_train, X_test, y_train, y_test = train_test_split(X, y, test_size=0.2, random_state=42)\n",
        "\n",
        "# Define the preprocessors\n",
        "numeric_transformer = Pipeline(steps=[\n",
        "    ('scaler', StandardScaler())\n",
        "])\n",
        "\n",
        "binary_encoder = Pipeline(steps=[\n",
        "    ('binary', BinaryEncoder())\n",
        "])\n",
        "\n",
        "onehot_transformer = Pipeline(steps=[\n",
        "    ('onehot', OneHotEncoder(drop='first'))\n",
        "])\n",
        "\n",
        "# Column transformer\n",
        "preprocessor = ColumnTransformer(\n",
        "    transformers=[\n",
        "        ('num', numeric_transformer, num_columns),\n",
        "        ('bin_carname', binary_encoder, ['CarName']),\n",
        "        ('bin_extcol', binary_encoder, ['ext_col']),\n",
        "        ('bin_intcol', binary_encoder, ['int_col']),\n",
        "        ('onehot', onehot_transformer, ['fueltype', 'accident'])\n",
        "    ])\n",
        "\n",
        "# Define the models\n",
        "models = {\n",
        "    'LinearRegression': LinearRegression(),\n",
        "    'SVM_Linear': SVR(kernel='linear'),\n",
        "    'SVM_Polynomial': SVR(kernel='poly'),\n",
        "    'DecisionTree': DecisionTreeRegressor(),\n",
        "    'RandomForest': RandomForestRegressor(),\n",
        "    'XGBoost': XGBRegressor(),\n",
        "    'CatBoost': CatBoostRegressor(verbose=0),\n",
        "    'LightGBM': LGBMRegressor()\n",
        "}\n",
        "\n",
        "# Custom scorer for RMSE\n",
        "rmse_scorer = make_scorer(mean_squared_error, squared=False)\n",
        "\n",
        "# Train and evaluate models with cross-validation\n",
        "results = {}\n",
        "\n",
        "for name, model in models.items():\n",
        "    pipeline = Pipeline(steps=[('preprocessor', preprocessor),\n",
        "                               ('model', model)])\n",
        "    cv_rmse = cross_val_score(pipeline, X_train, y_train, cv=5, scoring=rmse_scorer)\n",
        "    cv_r2 = cross_val_score(pipeline, X_train, y_train, cv=5, scoring='r2')\n",
        "    pipeline.fit(X_train, y_train)\n",
        "    rmse, r2 = evaluate_model(pipeline, X_test, y_test)\n",
        "    results[name] = {'CV_RMSE': np.mean(cv_rmse), 'CV_R2': np.mean(cv_r2), 'Test_RMSE': rmse, 'Test_R2': r2}\n",
        "\n",
        "# Print the results\n",
        "for model_name, metrics in results.items():\n",
        "    print(f\"Model: {model_name}\")\n",
        "    print(f\"CV RMSE: {metrics['CV_RMSE']}\")\n",
        "    print(f\"CV R2: {metrics['CV_R2']}\")\n",
        "    print(f\"Test RMSE: {metrics['Test_RMSE']}\")\n",
        "    print(f\"Test R2: {metrics['Test_R2']}\")\n",
        "    print('-'*30)\n"
      ],
      "metadata": {
        "colab": {
          "base_uri": "https://localhost:8080/"
        },
        "id": "flfytK5fwPT1",
        "outputId": "6e862dda-787d-408e-ea2e-d3ea28824a3b"
      },
      "execution_count": 13,
      "outputs": [
        {
          "output_type": "stream",
          "name": "stdout",
          "text": [
            "[LightGBM] [Info] Auto-choosing row-wise multi-threading, the overhead of testing was 0.000700 seconds.\n",
            "You can set `force_row_wise=true` to remove the overhead.\n",
            "And if memory is not enough, you can set `force_col_wise=true`.\n",
            "[LightGBM] [Info] Total Bins 614\n",
            "[LightGBM] [Info] Number of data points in the train set: 1942, number of used features: 22\n",
            "[LightGBM] [Info] Start training from score 36021.780639\n",
            "[LightGBM] [Info] Auto-choosing row-wise multi-threading, the overhead of testing was 0.000465 seconds.\n",
            "You can set `force_row_wise=true` to remove the overhead.\n",
            "And if memory is not enough, you can set `force_col_wise=true`.\n",
            "[LightGBM] [Info] Total Bins 616\n",
            "[LightGBM] [Info] Number of data points in the train set: 1942, number of used features: 22\n",
            "[LightGBM] [Info] Start training from score 36643.896498\n",
            "[LightGBM] [Info] Auto-choosing row-wise multi-threading, the overhead of testing was 0.000461 seconds.\n",
            "You can set `force_row_wise=true` to remove the overhead.\n",
            "And if memory is not enough, you can set `force_col_wise=true`.\n",
            "[LightGBM] [Info] Total Bins 611\n",
            "[LightGBM] [Info] Number of data points in the train set: 1942, number of used features: 22\n",
            "[LightGBM] [Info] Start training from score 35987.303811\n",
            "[LightGBM] [Info] Auto-choosing row-wise multi-threading, the overhead of testing was 0.000449 seconds.\n",
            "You can set `force_row_wise=true` to remove the overhead.\n",
            "And if memory is not enough, you can set `force_col_wise=true`.\n",
            "[LightGBM] [Info] Total Bins 616\n",
            "[LightGBM] [Info] Number of data points in the train set: 1943, number of used features: 22\n",
            "[LightGBM] [Info] Start training from score 35682.083376\n",
            "[LightGBM] [Info] Auto-choosing row-wise multi-threading, the overhead of testing was 0.000452 seconds.\n",
            "You can set `force_row_wise=true` to remove the overhead.\n",
            "And if memory is not enough, you can set `force_col_wise=true`.\n",
            "[LightGBM] [Info] Total Bins 615\n",
            "[LightGBM] [Info] Number of data points in the train set: 1943, number of used features: 22\n",
            "[LightGBM] [Info] Start training from score 36859.923314\n",
            "[LightGBM] [Info] Auto-choosing row-wise multi-threading, the overhead of testing was 0.000661 seconds.\n",
            "You can set `force_row_wise=true` to remove the overhead.\n",
            "And if memory is not enough, you can set `force_col_wise=true`.\n",
            "[LightGBM] [Info] Total Bins 614\n",
            "[LightGBM] [Info] Number of data points in the train set: 1942, number of used features: 22\n",
            "[LightGBM] [Info] Start training from score 36021.780639\n",
            "[LightGBM] [Info] Auto-choosing row-wise multi-threading, the overhead of testing was 0.000446 seconds.\n",
            "You can set `force_row_wise=true` to remove the overhead.\n",
            "And if memory is not enough, you can set `force_col_wise=true`.\n",
            "[LightGBM] [Info] Total Bins 616\n",
            "[LightGBM] [Info] Number of data points in the train set: 1942, number of used features: 22\n",
            "[LightGBM] [Info] Start training from score 36643.896498\n",
            "[LightGBM] [Info] Auto-choosing row-wise multi-threading, the overhead of testing was 0.000500 seconds.\n",
            "You can set `force_row_wise=true` to remove the overhead.\n",
            "And if memory is not enough, you can set `force_col_wise=true`.\n",
            "[LightGBM] [Info] Total Bins 611\n",
            "[LightGBM] [Info] Number of data points in the train set: 1942, number of used features: 22\n",
            "[LightGBM] [Info] Start training from score 35987.303811\n",
            "[LightGBM] [Info] Auto-choosing row-wise multi-threading, the overhead of testing was 0.000454 seconds.\n",
            "You can set `force_row_wise=true` to remove the overhead.\n",
            "And if memory is not enough, you can set `force_col_wise=true`.\n",
            "[LightGBM] [Info] Total Bins 616\n",
            "[LightGBM] [Info] Number of data points in the train set: 1943, number of used features: 22\n",
            "[LightGBM] [Info] Start training from score 35682.083376\n",
            "[LightGBM] [Info] Auto-choosing row-wise multi-threading, the overhead of testing was 0.000480 seconds.\n",
            "You can set `force_row_wise=true` to remove the overhead.\n",
            "And if memory is not enough, you can set `force_col_wise=true`.\n",
            "[LightGBM] [Info] Total Bins 615\n",
            "[LightGBM] [Info] Number of data points in the train set: 1943, number of used features: 22\n",
            "[LightGBM] [Info] Start training from score 36859.923314\n",
            "[LightGBM] [Info] Auto-choosing row-wise multi-threading, the overhead of testing was 0.000556 seconds.\n",
            "You can set `force_row_wise=true` to remove the overhead.\n",
            "And if memory is not enough, you can set `force_col_wise=true`.\n",
            "[LightGBM] [Info] Total Bins 617\n",
            "[LightGBM] [Info] Number of data points in the train set: 2428, number of used features: 22\n",
            "[LightGBM] [Info] Start training from score 36239.004119\n",
            "Model: LinearRegression\n",
            "CV RMSE: 23671.497100903754\n",
            "CV R2: 0.5464689731608234\n",
            "Test RMSE: 33891.23188827013\n",
            "Test R2: 0.49070333717624315\n",
            "------------------------------\n",
            "Model: SVM_Linear\n",
            "CV RMSE: 34482.11272222179\n",
            "CV R2: 0.038421689725864884\n",
            "Test RMSE: 46911.76419063629\n",
            "Test R2: 0.024202611126075246\n",
            "------------------------------\n",
            "Model: SVM_Polynomial\n",
            "CV RMSE: 36128.76886895768\n",
            "CV R2: -0.05807504058791513\n",
            "Test RMSE: 48697.922395971975\n",
            "Test R2: -0.05151866736497879\n",
            "------------------------------\n",
            "Model: DecisionTree\n",
            "CV RMSE: 25822.639252715187\n",
            "CV R2: 0.471547552520302\n",
            "Test RMSE: 26819.93060933981\n",
            "Test R2: 0.6810582151776046\n",
            "------------------------------\n",
            "Model: RandomForest\n",
            "CV RMSE: 17083.001826620755\n",
            "CV R2: 0.7611556191583528\n",
            "Test RMSE: 20358.455942102028\n",
            "Test R2: 0.8162252699687489\n",
            "------------------------------\n",
            "Model: XGBoost\n",
            "CV RMSE: 15945.219601165085\n",
            "CV R2: 0.7916409507922009\n",
            "Test RMSE: 19476.721394048025\n",
            "Test R2: 0.8317992901447518\n",
            "------------------------------\n",
            "Model: CatBoost\n",
            "CV RMSE: 15187.793997945962\n",
            "CV R2: 0.8117715598980795\n",
            "Test RMSE: 16396.386122526445\n",
            "Test R2: 0.8807955702125594\n",
            "------------------------------\n",
            "Model: LightGBM\n",
            "CV RMSE: 17013.641826017723\n",
            "CV R2: 0.7661685172064491\n",
            "Test RMSE: 22371.947619066206\n",
            "Test R2: 0.778076287939534\n",
            "------------------------------\n"
          ]
        }
      ]
    },
    {
      "cell_type": "code",
      "source": [
        "# the best one is the Catboost -> Tune it\n"
      ],
      "metadata": {
        "id": "E5PS89iywbor"
      },
      "execution_count": null,
      "outputs": []
    },
    {
      "cell_type": "code",
      "source": [
        "from sklearn.model_selection import train_test_split, GridSearchCV\n",
        "from sklearn.preprocessing import StandardScaler, OneHotEncoder\n",
        "from sklearn.compose import ColumnTransformer\n",
        "from sklearn.pipeline import Pipeline\n",
        "from sklearn.metrics import make_scorer, mean_squared_error, r2_score\n",
        "from catboost import CatBoostRegressor\n",
        "from category_encoders import BinaryEncoder\n",
        "import numpy as np\n",
        "import joblib\n",
        "\n",
        "# Define the evaluate_model function\n",
        "def evaluate_model(model, X, y):\n",
        "    y_pred = model.predict(X)\n",
        "    rmse = mean_squared_error(y, y_pred, squared=False)\n",
        "    r2 = r2_score(y, y_pred)\n",
        "    return rmse, r2\n",
        "\n",
        "# Specify your columns\n",
        "cat_columns = ['CarName', 'fueltype', 'accident', 'ext_col', 'int_col']\n",
        "num_columns = ['milage', 'model_year', 'HP', 'motor_size', 'cylinders']\n",
        "target = 'price'\n",
        "\n",
        "# Split the data\n",
        "X = df[cat_columns + num_columns]\n",
        "y = df[target]\n",
        "\n",
        "X_train, X_test, y_train, y_test = train_test_split(X, y, test_size=0.2, random_state=42)\n",
        "\n",
        "# Define the preprocessors\n",
        "numeric_transformer = Pipeline(steps=[\n",
        "    ('scaler', StandardScaler())\n",
        "])\n",
        "\n",
        "binary_encoder = Pipeline(steps=[\n",
        "    ('binary', BinaryEncoder())\n",
        "])\n",
        "\n",
        "onehot_transformer = Pipeline(steps=[\n",
        "    ('onehot', OneHotEncoder(drop='first'))\n",
        "])\n",
        "\n",
        "# Column transformer\n",
        "preprocessor = ColumnTransformer(\n",
        "    transformers=[\n",
        "        ('num', numeric_transformer, num_columns),\n",
        "        ('bin_carname', binary_encoder, ['CarName']),\n",
        "        ('bin_extcol', binary_encoder, ['ext_col']),\n",
        "        ('bin_intcol', binary_encoder, ['int_col']),\n",
        "        ('onehot', onehot_transformer, ['fueltype', 'accident'])\n",
        "    ])\n",
        "\n",
        "# Define the model\n",
        "catboost_model = CatBoostRegressor(verbose=0)\n",
        "\n",
        "# Define the parameter grid\n",
        "param_grid = {\n",
        "    'model__iterations': [100, 200, 300],\n",
        "    'model__depth': [4, 6, 8],\n",
        "    'model__learning_rate': [0.01, 0.05, 0.1]\n",
        "}\n",
        "\n",
        "# Create the pipeline\n",
        "pipeline = Pipeline(steps=[('preprocessor', preprocessor),\n",
        "                           ('model', catboost_model)])\n",
        "\n",
        "# Define the custom RMSE scorer\n",
        "rmse_scorer = make_scorer(mean_squared_error, squared=False)\n",
        "\n",
        "# Perform grid search\n",
        "grid_search = GridSearchCV(pipeline, param_grid, cv=5, scoring=rmse_scorer, n_jobs=-1)\n",
        "grid_search.fit(X_train, y_train)\n",
        "\n",
        "# Print the best parameters\n",
        "print(\"Best parameters found: \", grid_search.best_params_)\n",
        "\n",
        "# Evaluate the best model on the test set\n",
        "best_model = grid_search.best_estimator_\n",
        "test_rmse, test_r2 = evaluate_model(best_model, X_test, y_test)\n",
        "print(f\"Test RMSE: {test_rmse}\")\n",
        "print(f\"Test R2: {test_r2}\")\n",
        "\n",
        "# Refit the best model on the entire dataset\n",
        "best_model.fit(X, y)\n",
        "final_rmse, final_r2 = evaluate_model(best_model, X, y)\n",
        "print(f\"Final RMSE on the whole dataset: {final_rmse}\")\n",
        "print(f\"Final R2 on the whole dataset: {final_r2}\")\n",
        "\n",
        "# Save the pipeline\n",
        "joblib.dump(best_model, 'best_catboost_pipeline.pkl')\n",
        "\n",
        "# Example function to use the saved pipeline\n",
        "def predict_price(input_data):\n",
        "    model = joblib.load('best_catboost_pipeline.pkl')\n",
        "    return model.predict(input_data)\n",
        "\n",
        "# Example usage\n",
        "# Load the model and make predictions\n",
        "example_data = pd.DataFrame({\n",
        "    'CarName': ['Toyota'],\n",
        "    'fueltype': ['gasoline'],\n",
        "    'accident': ['no'],\n",
        "    'ext_col': ['Black'],\n",
        "    'int_col': ['Black'],\n",
        "    'milage': [15000],\n",
        "    'model_year': [2020],\n",
        "    'HP': [150],\n",
        "    'motor_size': [2.0],\n",
        "    'cylinders': [4]\n",
        "})\n",
        "predicted_price = predict_price(example_data)\n",
        "print(f\"Predicted price: {predicted_price}\")\n"
      ],
      "metadata": {
        "colab": {
          "base_uri": "https://localhost:8080/"
        },
        "id": "T4W9JFhBxxDQ",
        "outputId": "abae3871-f60c-460c-ef03-3a660cdf5b31"
      },
      "execution_count": 14,
      "outputs": [
        {
          "output_type": "stream",
          "name": "stdout",
          "text": [
            "Best parameters found:  {'model__depth': 4, 'model__iterations': 100, 'model__learning_rate': 0.01}\n",
            "Test RMSE: 35671.41258606568\n",
            "Test R2: 0.4357952528612231\n",
            "Final RMSE on the whole dataset: 25492.183477188297\n",
            "Final R2 on the whole dataset: 0.5552771324327922\n",
            "Predicted price: [42445.16951938]\n"
          ]
        }
      ]
    },
    {
      "cell_type": "code",
      "source": [
        "# its become so ban when test on all data -> change to RF"
      ],
      "metadata": {
        "id": "ZjUXs5-czzkX"
      },
      "execution_count": null,
      "outputs": []
    },
    {
      "cell_type": "code",
      "source": [
        "from sklearn.model_selection import train_test_split, GridSearchCV\n",
        "from sklearn.preprocessing import StandardScaler, OneHotEncoder\n",
        "from sklearn.compose import ColumnTransformer\n",
        "from sklearn.pipeline import Pipeline\n",
        "from sklearn.metrics import make_scorer, mean_squared_error, r2_score\n",
        "from sklearn.ensemble import RandomForestRegressor\n",
        "from category_encoders import BinaryEncoder\n",
        "import numpy as np\n",
        "import joblib\n",
        "import pandas as pd\n",
        "\n",
        "# Define the evaluate_model function\n",
        "def evaluate_model(model, X, y):\n",
        "    y_pred = model.predict(X)\n",
        "    rmse = mean_squared_error(y, y_pred, squared=False)\n",
        "    r2 = r2_score(y, y_pred)\n",
        "    return rmse, r2\n",
        "\n",
        "# Specify your columns\n",
        "cat_columns = ['CarName', 'fueltype', 'accident', 'ext_col', 'int_col']\n",
        "num_columns = ['milage', 'model_year', 'HP', 'motor_size', 'cylinders']\n",
        "target = 'price'\n",
        "\n",
        "\n",
        "# Split the data\n",
        "X = df[cat_columns + num_columns]\n",
        "y = df[target]\n",
        "\n",
        "X_train, X_test, y_train, y_test = train_test_split(X, y, test_size=0.2, random_state=42)\n",
        "\n",
        "# Define the preprocessors\n",
        "numeric_transformer = Pipeline(steps=[\n",
        "    ('scaler', StandardScaler())\n",
        "])\n",
        "\n",
        "binary_encoder = Pipeline(steps=[\n",
        "    ('binary', BinaryEncoder())\n",
        "])\n",
        "\n",
        "onehot_transformer = Pipeline(steps=[\n",
        "    ('onehot', OneHotEncoder(drop='first'))\n",
        "])\n",
        "\n",
        "# Column transformer\n",
        "preprocessor = ColumnTransformer(\n",
        "    transformers=[\n",
        "        ('num', numeric_transformer, num_columns),\n",
        "        ('bin_carname', binary_encoder, ['CarName']),\n",
        "        ('bin_extcol', binary_encoder, ['ext_col']),\n",
        "        ('bin_intcol', binary_encoder, ['int_col']),\n",
        "        ('onehot', onehot_transformer, ['fueltype', 'accident'])\n",
        "    ])\n",
        "\n",
        "# Define the model\n",
        "rf_model = RandomForestRegressor(random_state=42)\n",
        "\n",
        "# Define the parameter grid\n",
        "param_grid = {\n",
        "    'model__n_estimators': [50, 100],\n",
        "    'model__max_depth': [10, 20]\n",
        "}\n",
        "\n",
        "# Create the pipeline\n",
        "pipeline = Pipeline(steps=[('preprocessor', preprocessor),\n",
        "                           ('model', rf_model)])\n",
        "\n",
        "# Define the custom RMSE scorer\n",
        "rmse_scorer = make_scorer(mean_squared_error, squared=False)\n",
        "\n",
        "# Perform grid search\n",
        "grid_search = GridSearchCV(pipeline, param_grid, cv=3, scoring=rmse_scorer, n_jobs=-1)\n",
        "grid_search.fit(X_train, y_train)\n",
        "\n",
        "# Print the best parameters\n",
        "print(\"Best parameters found: \", grid_search.best_params_)\n",
        "\n",
        "# Evaluate the best model on the test set\n",
        "best_model = grid_search.best_estimator_\n",
        "test_rmse, test_r2 = evaluate_model(best_model, X_test, y_test)\n",
        "print(f\"Test RMSE: {test_rmse}\")\n",
        "print(f\"Test R2: {test_r2}\")\n",
        "\n",
        "# Refit the best model on the entire dataset\n",
        "best_model.fit(X, y)\n",
        "final_rmse, final_r2 = evaluate_model(best_model, X, y)\n",
        "print(f\"Final RMSE on the whole dataset: {final_rmse}\")\n",
        "print(f\"Final R2 on the whole dataset: {final_r2}\")\n",
        "\n",
        "# Save the pipeline\n",
        "joblib.dump(best_model, 'oldcars-pipe.pkl')\n",
        "\n",
        "# Example function to use the saved pipeline\n",
        "def predict_price(input_data):\n",
        "    model = joblib.load('oldcars-pipe.pkl')\n",
        "    return model.predict(input_data)\n"
      ],
      "metadata": {
        "colab": {
          "base_uri": "https://localhost:8080/"
        },
        "id": "b1QJPBVTx6lN",
        "outputId": "6417012a-f83d-41f3-8409-3d6d811cb9f6"
      },
      "execution_count": 17,
      "outputs": [
        {
          "output_type": "stream",
          "name": "stdout",
          "text": [
            "Best parameters found:  {'model__max_depth': 20, 'model__n_estimators': 50}\n",
            "Test RMSE: 20995.65959126803\n",
            "Test R2: 0.8045412279134523\n",
            "Final RMSE on the whole dataset: 5757.606694727853\n",
            "Final R2 on the whole dataset: 0.977313924166728\n"
          ]
        }
      ]
    },
    {
      "cell_type": "code",
      "source": [
        "example_data = pd.DataFrame({\n",
        "    'CarName': ['Toyota'],\n",
        "    'fueltype': ['gasoline'],\n",
        "    'accident': ['no'],\n",
        "    'ext_col': ['Black'],\n",
        "    'int_col': ['Black'],\n",
        "    'milage': [15000],\n",
        "    'model_year': [2020],\n",
        "    'HP': [150],\n",
        "    'motor_size': [2.0],\n",
        "    'cylinders': [4]\n",
        "})\n",
        "predicted_price = predict_price(example_data)\n",
        "print(f\"Predicted price: {predicted_price}\")"
      ],
      "metadata": {
        "colab": {
          "base_uri": "https://localhost:8080/"
        },
        "id": "RQwb_LQ_x66H",
        "outputId": "2ff5328e-ce26-404b-db32-828c6a645e66"
      },
      "execution_count": 19,
      "outputs": [
        {
          "output_type": "stream",
          "name": "stdout",
          "text": [
            "Predicted price: [24889.66]\n"
          ]
        }
      ]
    }
  ]
}