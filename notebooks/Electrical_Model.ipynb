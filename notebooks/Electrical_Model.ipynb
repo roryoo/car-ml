{
  "cells": [
    {
      "cell_type": "code",
      "execution_count": 2,
      "metadata": {
        "colab": {
          "base_uri": "https://localhost:8080/",
          "height": 81
        },
        "id": "egSx5Jc40hLE",
        "outputId": "7f102316-07f9-40e4-f87e-5960de99d80b"
      },
      "outputs": [
        {
          "data": {
            "application/vnd.google.colaboratory.intrinsic+json": {
              "summary": "{\n  \"name\": \"df\",\n  \"rows\": 307,\n  \"fields\": [\n    {\n      \"column\": \"Battery\",\n      \"properties\": {\n        \"dtype\": \"number\",\n        \"std\": 20.363656475078873,\n        \"min\": 21.3,\n        \"max\": 123.0,\n        \"num_unique_values\": 83,\n        \"samples\": [\n          46.3,\n          75.0,\n          49.0\n        ],\n        \"semantic_type\": \"\",\n        \"description\": \"\"\n      }\n    },\n    {\n      \"column\": \"Efficiency\",\n      \"properties\": {\n        \"dtype\": \"number\",\n        \"std\": 32,\n        \"min\": 137,\n        \"max\": 295,\n        \"num_unique_values\": 87,\n        \"samples\": [\n          214,\n          172,\n          175\n        ],\n        \"semantic_type\": \"\",\n        \"description\": \"\"\n      }\n    },\n    {\n      \"column\": \"Fast_charge\",\n      \"properties\": {\n        \"dtype\": \"number\",\n        \"std\": 240.31865098666393,\n        \"min\": 170.0,\n        \"max\": 1290.0,\n        \"num_unique_values\": 85,\n        \"samples\": [\n          620.0,\n          670.0,\n          350.0\n        ],\n        \"semantic_type\": \"\",\n        \"description\": \"\"\n      }\n    },\n    {\n      \"column\": \"Range\",\n      \"properties\": {\n        \"dtype\": \"number\",\n        \"std\": 107,\n        \"min\": 135,\n        \"max\": 685,\n        \"num_unique_values\": 75,\n        \"samples\": [\n          505,\n          580,\n          380\n        ],\n        \"semantic_type\": \"\",\n        \"description\": \"\"\n      }\n    },\n    {\n      \"column\": \"Top_speed\",\n      \"properties\": {\n        \"dtype\": \"number\",\n        \"std\": 36,\n        \"min\": 125,\n        \"max\": 282,\n        \"num_unique_values\": 35,\n        \"samples\": [\n          140,\n          225,\n          230\n        ],\n        \"semantic_type\": \"\",\n        \"description\": \"\"\n      }\n    },\n    {\n      \"column\": \"acceleration..0.100.\",\n      \"properties\": {\n        \"dtype\": \"number\",\n        \"std\": 3.087695181131602,\n        \"min\": 2.1,\n        \"max\": 19.1,\n        \"num_unique_values\": 87,\n        \"samples\": [\n          8.2,\n          5.0,\n          6.7\n        ],\n        \"semantic_type\": \"\",\n        \"description\": \"\"\n      }\n    },\n    {\n      \"column\": \"price\",\n      \"properties\": {\n        \"dtype\": \"number\",\n        \"std\": 37563.955966001806,\n        \"min\": 24579.5,\n        \"max\": 237620.0,\n        \"num_unique_values\": 269,\n        \"samples\": [\n          39883.1,\n          62555.1,\n          41954.1\n        ],\n        \"semantic_type\": \"\",\n        \"description\": \"\"\n      }\n    }\n  ]\n}",
              "type": "dataframe",
              "variable_name": "df"
            },
            "text/html": [
              "\n",
              "  <div id=\"df-49fa9e70-6d1c-4368-bba0-9e1053d50fdf\" class=\"colab-df-container\">\n",
              "    <div>\n",
              "<style scoped>\n",
              "    .dataframe tbody tr th:only-of-type {\n",
              "        vertical-align: middle;\n",
              "    }\n",
              "\n",
              "    .dataframe tbody tr th {\n",
              "        vertical-align: top;\n",
              "    }\n",
              "\n",
              "    .dataframe thead th {\n",
              "        text-align: right;\n",
              "    }\n",
              "</style>\n",
              "<table border=\"1\" class=\"dataframe\">\n",
              "  <thead>\n",
              "    <tr style=\"text-align: right;\">\n",
              "      <th></th>\n",
              "      <th>Battery</th>\n",
              "      <th>Efficiency</th>\n",
              "      <th>Fast_charge</th>\n",
              "      <th>Range</th>\n",
              "      <th>Top_speed</th>\n",
              "      <th>acceleration..0.100.</th>\n",
              "      <th>price</th>\n",
              "    </tr>\n",
              "  </thead>\n",
              "  <tbody>\n",
              "    <tr>\n",
              "      <th>0</th>\n",
              "      <td>75.0</td>\n",
              "      <td>172</td>\n",
              "      <td>670.0</td>\n",
              "      <td>435</td>\n",
              "      <td>217</td>\n",
              "      <td>5.0</td>\n",
              "      <td>64328.53</td>\n",
              "    </tr>\n",
              "  </tbody>\n",
              "</table>\n",
              "</div>\n",
              "    <div class=\"colab-df-buttons\">\n",
              "\n",
              "  <div class=\"colab-df-container\">\n",
              "    <button class=\"colab-df-convert\" onclick=\"convertToInteractive('df-49fa9e70-6d1c-4368-bba0-9e1053d50fdf')\"\n",
              "            title=\"Convert this dataframe to an interactive table.\"\n",
              "            style=\"display:none;\">\n",
              "\n",
              "  <svg xmlns=\"http://www.w3.org/2000/svg\" height=\"24px\" viewBox=\"0 -960 960 960\">\n",
              "    <path d=\"M120-120v-720h720v720H120Zm60-500h600v-160H180v160Zm220 220h160v-160H400v160Zm0 220h160v-160H400v160ZM180-400h160v-160H180v160Zm440 0h160v-160H620v160ZM180-180h160v-160H180v160Zm440 0h160v-160H620v160Z\"/>\n",
              "  </svg>\n",
              "    </button>\n",
              "\n",
              "  <style>\n",
              "    .colab-df-container {\n",
              "      display:flex;\n",
              "      gap: 12px;\n",
              "    }\n",
              "\n",
              "    .colab-df-convert {\n",
              "      background-color: #E8F0FE;\n",
              "      border: none;\n",
              "      border-radius: 50%;\n",
              "      cursor: pointer;\n",
              "      display: none;\n",
              "      fill: #1967D2;\n",
              "      height: 32px;\n",
              "      padding: 0 0 0 0;\n",
              "      width: 32px;\n",
              "    }\n",
              "\n",
              "    .colab-df-convert:hover {\n",
              "      background-color: #E2EBFA;\n",
              "      box-shadow: 0px 1px 2px rgba(60, 64, 67, 0.3), 0px 1px 3px 1px rgba(60, 64, 67, 0.15);\n",
              "      fill: #174EA6;\n",
              "    }\n",
              "\n",
              "    .colab-df-buttons div {\n",
              "      margin-bottom: 4px;\n",
              "    }\n",
              "\n",
              "    [theme=dark] .colab-df-convert {\n",
              "      background-color: #3B4455;\n",
              "      fill: #D2E3FC;\n",
              "    }\n",
              "\n",
              "    [theme=dark] .colab-df-convert:hover {\n",
              "      background-color: #434B5C;\n",
              "      box-shadow: 0px 1px 3px 1px rgba(0, 0, 0, 0.15);\n",
              "      filter: drop-shadow(0px 1px 2px rgba(0, 0, 0, 0.3));\n",
              "      fill: #FFFFFF;\n",
              "    }\n",
              "  </style>\n",
              "\n",
              "    <script>\n",
              "      const buttonEl =\n",
              "        document.querySelector('#df-49fa9e70-6d1c-4368-bba0-9e1053d50fdf button.colab-df-convert');\n",
              "      buttonEl.style.display =\n",
              "        google.colab.kernel.accessAllowed ? 'block' : 'none';\n",
              "\n",
              "      async function convertToInteractive(key) {\n",
              "        const element = document.querySelector('#df-49fa9e70-6d1c-4368-bba0-9e1053d50fdf');\n",
              "        const dataTable =\n",
              "          await google.colab.kernel.invokeFunction('convertToInteractive',\n",
              "                                                    [key], {});\n",
              "        if (!dataTable) return;\n",
              "\n",
              "        const docLinkHtml = 'Like what you see? Visit the ' +\n",
              "          '<a target=\"_blank\" href=https://colab.research.google.com/notebooks/data_table.ipynb>data table notebook</a>'\n",
              "          + ' to learn more about interactive tables.';\n",
              "        element.innerHTML = '';\n",
              "        dataTable['output_type'] = 'display_data';\n",
              "        await google.colab.output.renderOutput(dataTable, element);\n",
              "        const docLink = document.createElement('div');\n",
              "        docLink.innerHTML = docLinkHtml;\n",
              "        element.appendChild(docLink);\n",
              "      }\n",
              "    </script>\n",
              "  </div>\n",
              "\n",
              "\n",
              "    </div>\n",
              "  </div>\n"
            ],
            "text/plain": [
              "   Battery  Efficiency  Fast_charge  Range  Top_speed  acceleration..0.100.  \\\n",
              "0     75.0         172        670.0    435        217                   5.0   \n",
              "\n",
              "      price  \n",
              "0  64328.53  "
            ]
          },
          "execution_count": 2,
          "metadata": {},
          "output_type": "execute_result"
        }
      ],
      "source": [
        "import pandas as pd\n",
        "df = pd.read_csv('electeric_clean.csv')\n",
        "df.drop(columns='Unnamed: 0',inplace=True,axis=1)\n",
        "df.head(1)"
      ]
    },
    {
      "cell_type": "code",
      "execution_count": 3,
      "metadata": {
        "colab": {
          "base_uri": "https://localhost:8080/"
        },
        "id": "9rjzzsgR00xb",
        "outputId": "fb9db9ae-8c9f-4f71-af2f-8cf39a058a9c"
      },
      "outputs": [
        {
          "name": "stdout",
          "output_type": "stream",
          "text": [
            "Battery                 0\n",
            "Efficiency              0\n",
            "Fast_charge             0\n",
            "Range                   0\n",
            "Top_speed               0\n",
            "acceleration..0.100.    0\n",
            "price                   0\n",
            "dtype: int64\n",
            "2\n"
          ]
        }
      ],
      "source": [
        "# check nullas and duplicates\n",
        "print(df.isnull().sum())\n",
        "print(df.duplicated().sum())"
      ]
    },
    {
      "cell_type": "code",
      "execution_count": 4,
      "metadata": {
        "colab": {
          "base_uri": "https://localhost:8080/"
        },
        "id": "Mu6U5EqP1EFT",
        "outputId": "5efa408b-1a6c-4484-ed98-a3d2d7893124"
      },
      "outputs": [
        {
          "name": "stdout",
          "output_type": "stream",
          "text": [
            "0\n"
          ]
        }
      ],
      "source": [
        "# drop duplicates\n",
        "df.drop_duplicates(inplace=True)\n",
        "print(df.duplicated().sum())"
      ]
    },
    {
      "cell_type": "code",
      "execution_count": 5,
      "metadata": {
        "colab": {
          "base_uri": "https://localhost:8080/"
        },
        "id": "g1RKE1_91I4g",
        "outputId": "30db243a-c807-446b-e915-6b993482e217"
      },
      "outputs": [
        {
          "data": {
            "text/plain": [
              "(305, 7)"
            ]
          },
          "execution_count": 5,
          "metadata": {},
          "output_type": "execute_result"
        }
      ],
      "source": [
        "# check size of the data\n",
        "df.shape"
      ]
    },
    {
      "cell_type": "code",
      "execution_count": 6,
      "metadata": {
        "id": "TO4w9Xlk1P0T"
      },
      "outputs": [],
      "source": [
        "# Train Test split\n",
        "from sklearn.model_selection import train_test_split\n",
        "X = df.drop('price',axis=1)\n",
        "y = df['price']\n",
        "X_train, X_test, y_train, y_test = train_test_split(X, y, test_size=0.2, random_state=42)\n"
      ]
    },
    {
      "cell_type": "code",
      "execution_count": 7,
      "metadata": {
        "id": "RlaV8QR71rQy"
      },
      "outputs": [],
      "source": [
        "# Scale data -> minMax scaler\n",
        "from sklearn.preprocessing import MinMaxScaler\n",
        "scaler = MinMaxScaler()\n",
        "X_train_scaled = scaler.fit_transform(X_train)\n",
        "X_test_scaled = scaler.transform(X_test)"
      ]
    },
    {
      "cell_type": "code",
      "execution_count": 11,
      "metadata": {
        "colab": {
          "base_uri": "https://localhost:8080/"
        },
        "id": "kM9p03oB2EWj",
        "outputId": "a413941c-3faa-49b3-897e-185c6e463ea9"
      },
      "outputs": [
        {
          "name": "stdout",
          "output_type": "stream",
          "text": [
            "Linear Regression CV Mean R2: 0.6872 (+/- 0.0273)\n",
            "Linear Regression CV Mean RMSE: 20865.0305 (+/- 3108.7422)\n",
            "Support Vector Machine CV Mean R2: -0.1074 (+/- 0.0605)\n",
            "Support Vector Machine CV Mean RMSE: 39179.6009 (+/- 4993.0506)\n",
            "Decision Tree CV Mean R2: 0.7554 (+/- 0.0545)\n",
            "Decision Tree CV Mean RMSE: 18987.5720 (+/- 2812.4465)\n",
            "K-Nearest Neighbors CV Mean R2: 0.7787 (+/- 0.0934)\n",
            "K-Nearest Neighbors CV Mean RMSE: 16940.1012 (+/- 3099.9117)\n",
            "Random Forest CV Mean R2: 0.8532 (+/- 0.0549)\n",
            "Random Forest CV Mean RMSE: 13587.9272 (+/- 2576.9961)\n",
            "LightGBM CV Mean R2: 0.8011 (+/- 0.0792)\n",
            "LightGBM CV Mean RMSE: 16099.1685 (+/- 2125.1721)\n",
            "Linear Regression Test R2: 0.7592\n",
            "Linear Regression Test RMSE: 17813.6671\n",
            "Support Vector Machine Test R2: -0.2327\n",
            "Support Vector Machine Test RMSE: 40303.5244\n",
            "Decision Tree Test R2: 0.7726\n",
            "Decision Tree Test RMSE: 17309.4564\n",
            "K-Nearest Neighbors Test R2: 0.8516\n",
            "K-Nearest Neighbors Test RMSE: 13986.1401\n",
            "Random Forest Test R2: 0.9077\n",
            "Random Forest Test RMSE: 11027.1875\n",
            "LightGBM Test R2: 0.8957\n",
            "LightGBM Test RMSE: 11721.4520\n"
          ]
        }
      ],
      "source": [
        "# test different models as LR, SVM, DT, KNN, RF, LightGBM -> CV = 5\n",
        "import numpy as np\n",
        "from sklearn.model_selection import cross_val_score\n",
        "from sklearn.metrics import mean_squared_error, r2_score\n",
        "from sklearn.linear_model import LinearRegression\n",
        "from sklearn.svm import SVR\n",
        "from sklearn.tree import DecisionTreeRegressor\n",
        "from sklearn.neighbors import KNeighborsRegressor\n",
        "from sklearn.ensemble import RandomForestRegressor\n",
        "import lightgbm as lgb\n",
        "\n",
        "# Assuming X_train and X_test are already defined and preprocessed\n",
        "# and that the labels y_train are also defined\n",
        "\n",
        "# Define regression models to test\n",
        "models = {\n",
        "    \"Linear Regression\": LinearRegression(),\n",
        "    \"Support Vector Machine\": SVR(),\n",
        "    \"Decision Tree\": DecisionTreeRegressor(),\n",
        "    \"K-Nearest Neighbors\": KNeighborsRegressor(),\n",
        "    \"Random Forest\": RandomForestRegressor(n_estimators=100),\n",
        "    \"LightGBM\": lgb.LGBMRegressor(verbosity=-1)\n",
        "}\n",
        "\n",
        "# Cross-validation\n",
        "cv_results_r2 = {}\n",
        "cv_results_rmse = {}\n",
        "for model_name, model in models.items():\n",
        "    r2_scores = cross_val_score(model, X_train_scaled, y_train, cv=5, scoring='r2')\n",
        "    rmse_scores = np.sqrt(-cross_val_score(model, X_train_scaled, y_train, cv=5, scoring='neg_mean_squared_error'))\n",
        "    cv_results_r2[model_name] = r2_scores\n",
        "    cv_results_rmse[model_name] = rmse_scores\n",
        "    print(f\"{model_name} CV Mean R2: {np.mean(r2_scores):.4f} (+/- {np.std(r2_scores):.4f})\")\n",
        "    print(f\"{model_name} CV Mean RMSE: {np.mean(rmse_scores):.4f} (+/- {np.std(rmse_scores):.4f})\")\n",
        "\n",
        "# If you want to train and evaluate models on the test set, use the code below:\n",
        "for model_name, model in models.items():\n",
        "    model.fit(X_train_scaled, y_train)\n",
        "    y_pred = model.predict(X_test_scaled)\n",
        "    r2 = r2_score(y_test, y_pred)\n",
        "    rmse = np.sqrt(mean_squared_error(y_test, y_pred))\n",
        "    print(f\"{model_name} Test R2: {r2:.4f}\")\n",
        "    print(f\"{model_name} Test RMSE: {rmse:.4f}\")\n"
      ]
    },
    {
      "cell_type": "code",
      "execution_count": 13,
      "metadata": {
        "colab": {
          "base_uri": "https://localhost:8080/"
        },
        "id": "JE_c12B622BJ",
        "outputId": "73f1a63a-dabc-4d0c-be4c-5c839ac09305"
      },
      "outputs": [
        {
          "name": "stdout",
          "output_type": "stream",
          "text": [
            "Fitting 5 folds for each of 216 candidates, totalling 1080 fits\n",
            "Best Parameters: {'max_depth': 30, 'max_features': 'sqrt', 'min_samples_leaf': 1, 'min_samples_split': 2, 'n_estimators': 100}\n",
            "Test RMSE: 11349.8847\n",
            "Test R2: 0.9022\n"
          ]
        }
      ],
      "source": [
        "# best one is the RF -> Tune it\n",
        "# Define the parameter grid to search\n",
        "from sklearn.model_selection import GridSearchCV\n",
        "param_grid = {\n",
        "    'n_estimators': [100, 200, 300],\n",
        "    'max_depth': [None, 10, 20, 30],\n",
        "    'min_samples_split': [2, 5, 10],\n",
        "    'min_samples_leaf': [1, 2, 4],\n",
        "    'max_features': ['auto', 'sqrt']\n",
        "}\n",
        "\n",
        "# Create a Random Forest regressor\n",
        "rf = RandomForestRegressor()\n",
        "\n",
        "# Instantiate the GridSearchCV object\n",
        "grid_search = GridSearchCV(estimator=rf, param_grid=param_grid,\n",
        "                           cv=5, n_jobs=-1, verbose=2, scoring='neg_mean_squared_error')\n",
        "\n",
        "# Perform the grid search\n",
        "grid_search.fit(X_train, y_train)\n",
        "\n",
        "# Print the best parameters found\n",
        "print(\"Best Parameters:\", grid_search.best_params_)\n",
        "\n",
        "# Get the best model\n",
        "best_rf = grid_search.best_estimator_\n",
        "\n",
        "# Evaluate the best model\n",
        "y_pred = best_rf.predict(X_test)\n",
        "rmse = np.sqrt(mean_squared_error(y_test, y_pred))\n",
        "r2 = r2_score(y_test, y_pred)\n",
        "print(f\"Test RMSE: {rmse:.4f}\")\n",
        "print(f\"Test R2: {r2:.4f}\")"
      ]
    },
    {
      "cell_type": "code",
      "execution_count": 16,
      "metadata": {
        "colab": {
          "base_uri": "https://localhost:8080/"
        },
        "id": "1p4cWCml6o1j",
        "outputId": "fbd99a51-7b42-49f4-ae39-9544d048db0a"
      },
      "outputs": [
        {
          "data": {
            "text/plain": [
              "array([ 75., 172., 670., 435., 217.,   5.])"
            ]
          },
          "execution_count": 16,
          "metadata": {},
          "output_type": "execute_result"
        }
      ],
      "source": [
        "X.iloc[0].values"
      ]
    },
    {
      "cell_type": "code",
      "execution_count": 22,
      "metadata": {
        "colab": {
          "base_uri": "https://localhost:8080/"
        },
        "id": "Rz6TpKrV4XfF",
        "outputId": "11302fec-a52f-4dd4-eea1-3d194a1f1a00"
      },
      "outputs": [
        {
          "data": {
            "text/plain": [
              "['electrical_min_max_scaler.pkl']"
            ]
          },
          "execution_count": 22,
          "metadata": {},
          "output_type": "execute_result"
        }
      ],
      "source": [
        "from sklearn.preprocessing import MinMaxScaler\n",
        "import joblib\n",
        "\n",
        "# Assuming X_train is your entire dataset\n",
        "\n",
        "# Apply MinMaxScaler to the entire dataset\n",
        "scaler = MinMaxScaler()\n",
        "Xscaled = scaler.fit_transform(X)\n",
        "\n",
        "# Retrain your model with the best parameters\n",
        "best_rf.fit(Xscaled, y)\n",
        "\n",
        "# Save the trained model\n",
        "joblib.dump(best_rf, 'electrical_random_forest_model.pkl')\n",
        "\n",
        "# Save the scaler\n",
        "joblib.dump(scaler, 'electrical_min_max_scaler.pkl')\n"
      ]
    },
    {
      "cell_type": "code",
      "execution_count": 23,
      "metadata": {
        "colab": {
          "base_uri": "https://localhost:8080/"
        },
        "id": "ODlS0h_d6elm",
        "outputId": "50e63a55-634e-4d11-c43c-1e9bd258d239"
      },
      "outputs": [
        {
          "name": "stdout",
          "output_type": "stream",
          "text": [
            "[67890.6064]\n"
          ]
        },
        {
          "name": "stderr",
          "output_type": "stream",
          "text": [
            "/usr/local/lib/python3.10/dist-packages/sklearn/base.py:439: UserWarning: X does not have valid feature names, but MinMaxScaler was fitted with feature names\n",
            "  warnings.warn(\n"
          ]
        }
      ],
      "source": [
        "import joblib\n",
        "import numpy as np\n",
        "\n",
        "def test_model(input_data):\n",
        "    # Load the trained model\n",
        "    rf_model = joblib.load('electrical_random_forest_model.pkl')\n",
        "    scaler = joblib.load('electrical_min_max_scaler.pkl')\n",
        "\n",
        "    # Reshape the input data to comply with MinMaxScaler\n",
        "    input_data = np.array(input_data).reshape(1, -1)\n",
        "\n",
        "    # Apply the scaler to the input data\n",
        "    X_test_scaled = scaler.transform(input_data)\n",
        "\n",
        "    # Make predictions using the model\n",
        "    predictions = rf_model.predict(X_test_scaled)\n",
        "\n",
        "    return predictions\n",
        "\n",
        "# Assuming 'X' is your dataset, you can take the first row as an example\n",
        "new_data = X.iloc[0].values\n",
        "predictions = test_model(new_data)\n",
        "print(predictions)\n"
      ]
    },
    {
      "cell_type": "code",
      "execution_count": 24,
      "metadata": {
        "colab": {
          "base_uri": "https://localhost:8080/"
        },
        "id": "pY8arWVP7Ezw",
        "outputId": "ff04f852-6702-4109-8494-37dd9efc5735"
      },
      "outputs": [
        {
          "data": {
            "text/plain": [
              "64328.53"
            ]
          },
          "execution_count": 24,
          "metadata": {},
          "output_type": "execute_result"
        }
      ],
      "source": [
        "y.iloc[0]"
      ]
    },
    {
      "cell_type": "code",
      "execution_count": null,
      "metadata": {
        "id": "fH9oZ5Z77GDw"
      },
      "outputs": [],
      "source": []
    }
  ],
  "metadata": {
    "colab": {
      "provenance": []
    },
    "kernelspec": {
      "display_name": "Python 3",
      "name": "python3"
    },
    "language_info": {
      "name": "python"
    }
  },
  "nbformat": 4,
  "nbformat_minor": 0
}
